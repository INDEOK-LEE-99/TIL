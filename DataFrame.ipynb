{
 "cells": [
  {
   "cell_type": "markdown",
   "metadata": {},
   "source": [
    "# DataFrame  \n",
    "\n",
    "### single value\n",
    "\n",
    "### single row\n",
    "\n",
    "### single column\n",
    "\n",
    "### multi rows\n",
    "1. continuous\n",
    "2. non-continuos\n",
    "\n",
    "### multi columns\n",
    "1. continuous\n",
    "2. non-continuos\n",
    "\n",
    "### range"
   ]
  },
  {
   "cell_type": "code",
   "execution_count": 1,
   "metadata": {},
   "outputs": [],
   "source": [
    "import numpy as np\n",
    "import pandas as pd"
   ]
  },
  {
   "cell_type": "code",
   "execution_count": null,
   "metadata": {},
   "outputs": [],
   "source": []
  },
  {
   "cell_type": "markdown",
   "metadata": {},
   "source": []
  }
 ],
 "metadata": {
  "kernelspec": {
   "display_name": "Python 3.10.4 64-bit",
   "language": "python",
   "name": "python3"
  },
  "language_info": {
   "codemirror_mode": {
    "name": "ipython",
    "version": 3
   },
   "file_extension": ".py",
   "mimetype": "text/x-python",
   "name": "python",
   "nbconvert_exporter": "python",
   "pygments_lexer": "ipython3",
   "version": "3.10.4"
  },
  "orig_nbformat": 4,
  "vscode": {
   "interpreter": {
    "hash": "3e4ee4a0b7f63ebd1e4eea80ee1500f7f6f9b124ab727648a1774bcaa8ac624d"
   }
  }
 },
 "nbformat": 4,
 "nbformat_minor": 2
}
